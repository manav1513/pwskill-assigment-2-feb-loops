{
 "cells": [
  {
   "cell_type": "code",
   "execution_count": 1,
   "id": "20ca14e6-e8ff-4908-8e3c-887709907567",
   "metadata": {
    "jupyter": {
     "source_hidden": true
    },
    "tags": []
   },
   "outputs": [
    {
     "name": "stdout",
     "output_type": "stream",
     "text": [
      "0\n",
      "1\n",
      "2\n",
      "3\n",
      "4\n",
      "5\n",
      "6\n",
      "7\n",
      "8\n",
      "9\n",
      "10\n"
     ]
    },
    {
     "name": "stdin",
     "output_type": "stream",
     "text": [
      "Enter the number 6\n"
     ]
    },
    {
     "name": "stdout",
     "output_type": "stream",
     "text": [
      "1\n",
      "2\n",
      "3\n",
      "4\n",
      "5\n",
      "6\n"
     ]
    }
   ],
   "source": [
    "# Q.1) Explain with an example each when to use a for loop and a while loop.\n",
    "# For loop: A for loop is a control flow statement that executes code\n",
    "# repeatedly for a particular number of iterations. In this control flow\n",
    "# statement, the keyword used is for. The for loop is used when the\n",
    "# number of iterations is already known.\n",
    "# While loop: A \"while\" loop is used when the number of iterations is unknown.\n",
    "# The statement repeats itself till the boolean value becomes false.\n",
    "# Example 1) for loop\n",
    "for i in range(0,10+1):\n",
    "    print(i)\n",
    "# Example 2) while loop\n",
    "n = int(input(\"Enter the number\"))\n",
    "i = 0\n",
    "while i<n:\n",
    "    i = i + 1\n",
    "    print(i)"
   ]
  },
  {
   "cell_type": "code",
   "execution_count": 2,
   "id": "e5c95914-d679-46ac-aabf-edff759ee1cd",
   "metadata": {},
   "outputs": [
    {
     "name": "stdout",
     "output_type": "stream",
     "text": [
      "using for loop\n",
      "3628800\n",
      "using while loop\n",
      "3628800\n"
     ]
    }
   ],
   "source": [
    "# Q2. Write a python program to print the sum and product of the first\n",
    "# 10 natural numbers using for and while loop.\n",
    "print(\"using for loop\")\n",
    "sum = 1\n",
    "for i in range(1,11):\n",
    "    sum = sum * i\n",
    "print(sum)\n",
    "\n",
    "print(\"using while loop\")\n",
    "i = 1\n",
    "sum2 = 1\n",
    "while i < 11:\n",
    "    sum2 = sum2 * i\n",
    "    i+=1\n",
    "print(sum2)\n"
   ]
  },
  {
   "cell_type": "code",
   "execution_count": 3,
   "id": "799b5276-9596-4b5a-9d8c-424f1ca2b6b3",
   "metadata": {},
   "outputs": [
    {
     "name": "stdin",
     "output_type": "stream",
     "text": [
      " 110\n"
     ]
    },
    {
     "name": "stdout",
     "output_type": "stream",
     "text": [
      "510.0\n"
     ]
    }
   ],
   "source": [
    "# Q3 Create a python program to compute the electricity bill for a household.\n",
    "# The per-unit charges in rupees are as follows: For the first 100 units, the user will be charged Rs. 4.5 per\n",
    "# unit, for the next 100 units, the user will be charged Rs. 6 per unit, and for the next 100 units, the user will\n",
    "# be charged Rs. 10 per unit, After 300 units and above the user will be charged Rs. 20 per unit.\n",
    "\n",
    "\n",
    "unit = int(input())\n",
    "if (unit > 0 and unit <=100):\n",
    "    print(100*4.5)\n",
    "elif (unit > 100 and unit < 200):\n",
    "    print((100*4.5)+(unit-100)*6)\n",
    "elif (unit>200 and unit < 300):\n",
    "    print((100*4.5)+(100*6)+(unit-300)*10)\n",
    "elif (unit > 300):\n",
    "    print((100*4.5)+(100*6)+(100*10)+(unit-300)*20)\n"
   ]
  },
  {
   "cell_type": "code",
   "execution_count": 6,
   "id": "2aab6ba9-1c5e-4cc5-bc04-0a6d7a6ab5f0",
   "metadata": {},
   "outputs": [
    {
     "name": "stdout",
     "output_type": "stream",
     "text": [
      "1 to 100 List\n",
      "[1, 2, 3, 4, 5, 6, 7, 8, 9, 10, 11, 12, 13, 14, 15, 16, 17, 18, 19, 20, 21, 22, 23, 24, 25, 26, 27, 28, 29, 30, 31, 32, 33, 34, 35, 36, 37, 38, 39, 40, 41, 42, 43, 44, 45, 46, 47, 48, 49, 50, 51, 52, 53, 54, 55, 56, 57, 58, 59, 60, 61, 62, 63, 64, 65, 66, 67, 68, 69, 70, 71, 72, 73, 74, 75, 76, 77, 78, 79, 80, 81, 82, 83, 84, 85, 86, 87, 88, 89, 90, 91, 92, 93, 94, 95, 96, 97, 98, 99, 100]\n",
      "Using For Loop\n",
      "[1, 8, 27, 64, 125, 216, 343, 512, 729, 1000, 1331, 1728, 2197, 2744, 3375, 4096, 4913, 5832, 6859, 8000, 9261, 10648, 12167, 13824, 15625, 17576, 19683, 21952, 24389, 27000, 29791, 32768, 35937, 39304, 42875, 46656, 50653, 54872, 59319, 64000, 68921, 74088, 79507, 85184, 91125, 97336, 103823, 110592, 117649, 125000, 132651, 140608, 148877, 157464, 166375, 175616, 185193, 195112, 205379, 216000, 226981, 238328, 250047, 262144, 274625, 287496, 300763, 314432, 328509, 343000, 357911, 373248, 389017, 405224, 421875, 438976, 456533, 474552, 493039, 512000, 531441, 551368, 571787, 592704, 614125, 636056, 658503, 681472, 704969, 729000, 753571, 778688, 804357, 830584, 857375, 884736, 912673, 941192, 970299, 1000000]\n",
      "[8, 64, 125, 216, 512, 1000, 1728, 2744, 3375, 4096, 5832, 8000, 10648, 13824, 15625, 17576, 21952, 27000, 32768, 39304, 42875, 46656, 54872, 64000, 74088, 85184, 91125, 97336, 110592, 125000, 140608, 157464, 166375, 175616, 195112, 216000, 238328, 262144, 274625, 287496, 314432, 343000, 373248, 405224, 421875, 438976, 474552, 512000, 551368, 592704, 614125, 636056, 681472, 729000, 778688, 830584, 857375, 884736, 941192, 1000000]\n",
      "Using While Loop\n",
      "[1, 8, 27, 64, 125, 216, 343, 512, 729, 1000, 1331, 1728, 2197, 2744, 3375, 4096, 4913, 5832, 6859, 8000, 9261, 10648, 12167, 13824, 15625, 17576, 19683, 21952, 24389, 27000, 29791, 32768, 35937, 39304, 42875, 46656, 50653, 54872, 59319, 64000, 68921, 74088, 79507, 85184, 91125, 97336, 103823, 110592, 117649, 125000, 132651, 140608, 148877, 157464, 166375, 175616, 185193, 195112, 205379, 216000, 226981, 238328, 250047, 262144, 274625, 287496, 300763, 314432, 328509, 343000, 357911, 373248, 389017, 405224, 421875, 438976, 456533, 474552, 493039, 512000, 531441, 551368, 571787, 592704, 614125, 636056, 658503, 681472, 704969, 729000, 753571, 778688, 804357, 830584, 857375, 884736, 912673, 941192, 970299, 1000000]\n",
      "[8, 64, 125, 216, 512, 1000, 1728, 2744, 3375, 4096, 5832, 8000, 10648, 13824, 15625, 17576, 21952, 27000, 32768, 39304, 42875, 46656, 54872, 64000, 74088, 85184, 91125, 97336, 110592, 125000, 140608, 157464, 166375, 175616, 195112, 216000, 238328, 262144, 274625, 287496, 314432, 343000, 373248, 405224, 421875, 438976, 474552, 512000, 551368, 592704, 614125, 636056, 681472, 729000, 778688, 830584, 857375, 884736, 941192, 1000000]\n"
     ]
    }
   ],
   "source": [
    "# Q4. Create a list of numbers from 1 to 100. Use for loop and while loop to calculate the cube of each\n",
    "# number and if the cube of that number is divisible by 4 or 5 then append that number in a list and print\n",
    "# that list.\n",
    "l1 = list(range(1,101))\n",
    "l2 = []\n",
    "l3 = []\n",
    "l4 = []\n",
    "l5 = []\n",
    "print(\"1 to 100 List\")\n",
    "print(l1)\n",
    "print(\"Using For Loop\")\n",
    "for i in l1:\n",
    "    cube = i**3\n",
    "    l2.append(cube)\n",
    "print(l2)\n",
    "for i in l2:\n",
    "    if i % 4 == 0 or i % 5 == 0:\n",
    "        l3.append(i)\n",
    "print(l3)\n",
    "print(\"Using While Loop\")\n",
    "i = 1\n",
    "while i<len(l1)+1:\n",
    "    ans = i**3\n",
    "    l4.append(ans)\n",
    "    i+=1\n",
    "print(l4)\n",
    "for i in l4:\n",
    "    if i % 4 == 0 or i % 5 == 0:\n",
    "        l5.append(i)\n",
    "print(l5)"
   ]
  },
  {
   "cell_type": "code",
   "execution_count": 7,
   "id": "3103f7f7-3879-4723-a48a-c370a4336d00",
   "metadata": {},
   "outputs": [
    {
     "name": "stdout",
     "output_type": "stream",
     "text": [
      "4\n",
      "3\n",
      "2\n",
      "2\n",
      "0\n"
     ]
    }
   ],
   "source": [
    "# Q5. Write a program to filter count vowels in the below-given string.\n",
    "string = \"I want to become a data scientist\"\n",
    "print(string.count('a'))\n",
    "print(string.count('e'))\n",
    "print(string.count('i'))\n",
    "print(string.count('o'))\n",
    "print(string.count('u'))\n"
   ]
  },
  {
   "cell_type": "code",
   "execution_count": null,
   "id": "728ad069-462e-440a-a2cc-74f8d84274c2",
   "metadata": {},
   "outputs": [],
   "source": []
  }
 ],
 "metadata": {
  "kernelspec": {
   "display_name": "Python 3 (ipykernel)",
   "language": "python",
   "name": "python3"
  },
  "language_info": {
   "codemirror_mode": {
    "name": "ipython",
    "version": 3
   },
   "file_extension": ".py",
   "mimetype": "text/x-python",
   "name": "python",
   "nbconvert_exporter": "python",
   "pygments_lexer": "ipython3",
   "version": "3.10.8"
  }
 },
 "nbformat": 4,
 "nbformat_minor": 5
}
